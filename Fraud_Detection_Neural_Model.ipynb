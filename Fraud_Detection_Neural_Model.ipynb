{
  "nbformat": 4,
  "nbformat_minor": 0,
  "metadata": {
    "colab": {
      "provenance": [],
      "mount_file_id": "1xZaFtv_tRIFMCKPK20dHlsFnNzCa1mB1",
      "authorship_tag": "ABX9TyMo/foINHjM506+tvxNgapj",
      "include_colab_link": true
    },
    "kernelspec": {
      "name": "python3",
      "display_name": "Python 3"
    },
    "language_info": {
      "name": "python"
    }
  },
  "cells": [
    {
      "cell_type": "markdown",
      "metadata": {
        "id": "view-in-github",
        "colab_type": "text"
      },
      "source": [
        "<a href=\"https://colab.research.google.com/github/mollah2022/Neural-Network/blob/main/Fraud_Detection_Neural_Model.ipynb\" target=\"_parent\"><img src=\"https://colab.research.google.com/assets/colab-badge.svg\" alt=\"Open In Colab\"/></a>"
      ]
    },
    {
      "cell_type": "code",
      "source": [
        "import pandas as pd\n",
        "import numpy as np\n",
        "from sklearn.model_selection import train_test_split\n",
        "from sklearn.preprocessing import StandardScaler\n",
        "from sklearn.utils import class_weight\n",
        "from sklearn.metrics import classification_report, confusion_matrix, roc_auc_score, precision_recall_curve\n",
        "import matplotlib.pyplot as plt\n",
        "import tensorflow as tf\n",
        "from tensorflow.keras import layers, models, callbacks"
      ],
      "metadata": {
        "id": "nuS7G458vvz3"
      },
      "execution_count": 4,
      "outputs": []
    },
    {
      "cell_type": "code",
      "source": [
        "# Load data\n",
        "df = pd.read_csv(\"/content/drive/MyDrive/Colab Notebooks/creditcard.csv\")\n",
        "X = df.drop(['Time', 'Class'], axis=1)\n",
        "y = df['Class']"
      ],
      "metadata": {
        "id": "G69OU95axDei"
      },
      "execution_count": 5,
      "outputs": []
    },
    {
      "cell_type": "code",
      "source": [
        "df.shape"
      ],
      "metadata": {
        "colab": {
          "base_uri": "https://localhost:8080/"
        },
        "id": "usgYGvH7yTtU",
        "outputId": "53e23d3a-0a28-4388-8dd0-97972eae1a67"
      },
      "execution_count": 16,
      "outputs": [
        {
          "output_type": "execute_result",
          "data": {
            "text/plain": [
              "(284807, 31)"
            ]
          },
          "metadata": {},
          "execution_count": 16
        }
      ]
    },
    {
      "cell_type": "code",
      "source": [
        "# Normalize Amount\n",
        "X['Amount'] = StandardScaler().fit_transform(X[['Amount']])"
      ],
      "metadata": {
        "id": "1ErjBIJcxJRT"
      },
      "execution_count": 6,
      "outputs": []
    },
    {
      "cell_type": "code",
      "source": [
        "# Train-test split\n",
        "X_train, X_test, y_train, y_test = train_test_split(X, y, stratify=y, test_size=0.2, random_state=42)"
      ],
      "metadata": {
        "id": "zyo_jHgqxNm2"
      },
      "execution_count": 7,
      "outputs": []
    },
    {
      "cell_type": "code",
      "source": [
        "# Class weights to handle imbalance\n",
        "weights = class_weight.compute_class_weight(class_weight='balanced', classes=np.unique(y_train), y=y_train)\n",
        "class_weights = {0: weights[0], 1: weights[1]}"
      ],
      "metadata": {
        "id": "c69PDwZjxT4o"
      },
      "execution_count": 8,
      "outputs": []
    },
    {
      "cell_type": "code",
      "source": [
        "# Model definition\n",
        "model = models.Sequential([\n",
        "    layers.Dense(256, activation='relu', input_shape=(29,)),\n",
        "    layers.BatchNormalization(),\n",
        "    layers.Dropout(0.5),\n",
        "    layers.Dense(128, activation='relu'),\n",
        "    layers.BatchNormalization(),\n",
        "    layers.Dropout(0.4),\n",
        "    layers.Dense(64, activation='relu'),\n",
        "    layers.Dropout(0.3),\n",
        "    layers.Dense(1, activation='sigmoid')\n",
        "])\n",
        "\n",
        "model.compile(optimizer=tf.keras.optimizers.Adam(0.0002),\n",
        "              loss='binary_crossentropy',\n",
        "              metrics=['accuracy'])"
      ],
      "metadata": {
        "colab": {
          "base_uri": "https://localhost:8080/"
        },
        "id": "lxSOgN4hxXPM",
        "outputId": "96d4656e-a31a-411c-e62a-f26199eb65b3"
      },
      "execution_count": 9,
      "outputs": [
        {
          "output_type": "stream",
          "name": "stderr",
          "text": [
            "/usr/local/lib/python3.11/dist-packages/keras/src/layers/core/dense.py:87: UserWarning: Do not pass an `input_shape`/`input_dim` argument to a layer. When using Sequential models, prefer using an `Input(shape)` object as the first layer in the model instead.\n",
            "  super().__init__(activity_regularizer=activity_regularizer, **kwargs)\n"
          ]
        }
      ]
    },
    {
      "cell_type": "code",
      "source": [
        "\n",
        "# Train\n",
        "early_stop = callbacks.EarlyStopping(monitor='val_loss', patience=4, restore_best_weights=True)\n",
        "\n",
        "model.fit(X_train, y_train,\n",
        "          validation_split=0.2,\n",
        "          epochs=30,\n",
        "          batch_size=2048,\n",
        "          class_weight=class_weights,\n",
        "          callbacks=[early_stop],\n",
        "          verbose=1)"
      ],
      "metadata": {
        "colab": {
          "base_uri": "https://localhost:8080/"
        },
        "id": "ezP1gLW3xbfo",
        "outputId": "51bfb738-a61c-4e49-977f-47946e7b997f"
      },
      "execution_count": 10,
      "outputs": [
        {
          "output_type": "stream",
          "name": "stdout",
          "text": [
            "Epoch 1/30\n",
            "\u001b[1m90/90\u001b[0m \u001b[32m━━━━━━━━━━━━━━━━━━━━\u001b[0m\u001b[37m\u001b[0m \u001b[1m9s\u001b[0m 60ms/step - accuracy: 0.8014 - loss: 1.3711 - val_accuracy: 0.9332 - val_loss: 0.5087\n",
            "Epoch 2/30\n",
            "\u001b[1m90/90\u001b[0m \u001b[32m━━━━━━━━━━━━━━━━━━━━\u001b[0m\u001b[37m\u001b[0m \u001b[1m4s\u001b[0m 41ms/step - accuracy: 0.8140 - loss: 0.3710 - val_accuracy: 0.9632 - val_loss: 0.3649\n",
            "Epoch 3/30\n",
            "\u001b[1m90/90\u001b[0m \u001b[32m━━━━━━━━━━━━━━━━━━━━\u001b[0m\u001b[37m\u001b[0m \u001b[1m6s\u001b[0m 70ms/step - accuracy: 0.8400 - loss: 0.3262 - val_accuracy: 0.9670 - val_loss: 0.2786\n",
            "Epoch 4/30\n",
            "\u001b[1m90/90\u001b[0m \u001b[32m━━━━━━━━━━━━━━━━━━━━\u001b[0m\u001b[37m\u001b[0m \u001b[1m9s\u001b[0m 53ms/step - accuracy: 0.8600 - loss: 0.3324 - val_accuracy: 0.9627 - val_loss: 0.2359\n",
            "Epoch 5/30\n",
            "\u001b[1m90/90\u001b[0m \u001b[32m━━━━━━━━━━━━━━━━━━━━\u001b[0m\u001b[37m\u001b[0m \u001b[1m8s\u001b[0m 83ms/step - accuracy: 0.8765 - loss: 0.2785 - val_accuracy: 0.9682 - val_loss: 0.2031\n",
            "Epoch 6/30\n",
            "\u001b[1m90/90\u001b[0m \u001b[32m━━━━━━━━━━━━━━━━━━━━\u001b[0m\u001b[37m\u001b[0m \u001b[1m10s\u001b[0m 81ms/step - accuracy: 0.8986 - loss: 0.2340 - val_accuracy: 0.9746 - val_loss: 0.1778\n",
            "Epoch 7/30\n",
            "\u001b[1m90/90\u001b[0m \u001b[32m━━━━━━━━━━━━━━━━━━━━\u001b[0m\u001b[37m\u001b[0m \u001b[1m6s\u001b[0m 37ms/step - accuracy: 0.9103 - loss: 0.2950 - val_accuracy: 0.9744 - val_loss: 0.1624\n",
            "Epoch 8/30\n",
            "\u001b[1m90/90\u001b[0m \u001b[32m━━━━━━━━━━━━━━━━━━━━\u001b[0m\u001b[37m\u001b[0m \u001b[1m5s\u001b[0m 37ms/step - accuracy: 0.9206 - loss: 0.2251 - val_accuracy: 0.9771 - val_loss: 0.1454\n",
            "Epoch 9/30\n",
            "\u001b[1m90/90\u001b[0m \u001b[32m━━━━━━━━━━━━━━━━━━━━\u001b[0m\u001b[37m\u001b[0m \u001b[1m6s\u001b[0m 46ms/step - accuracy: 0.9263 - loss: 0.2361 - val_accuracy: 0.9767 - val_loss: 0.1390\n",
            "Epoch 10/30\n",
            "\u001b[1m90/90\u001b[0m \u001b[32m━━━━━━━━━━━━━━━━━━━━\u001b[0m\u001b[37m\u001b[0m \u001b[1m3s\u001b[0m 38ms/step - accuracy: 0.9327 - loss: 0.2575 - val_accuracy: 0.9753 - val_loss: 0.1351\n",
            "Epoch 11/30\n",
            "\u001b[1m90/90\u001b[0m \u001b[32m━━━━━━━━━━━━━━━━━━━━\u001b[0m\u001b[37m\u001b[0m \u001b[1m3s\u001b[0m 36ms/step - accuracy: 0.9373 - loss: 0.1942 - val_accuracy: 0.9745 - val_loss: 0.1318\n",
            "Epoch 12/30\n",
            "\u001b[1m90/90\u001b[0m \u001b[32m━━━━━━━━━━━━━━━━━━━━\u001b[0m\u001b[37m\u001b[0m \u001b[1m5s\u001b[0m 52ms/step - accuracy: 0.9400 - loss: 0.2002 - val_accuracy: 0.9770 - val_loss: 0.1217\n",
            "Epoch 13/30\n",
            "\u001b[1m90/90\u001b[0m \u001b[32m━━━━━━━━━━━━━━━━━━━━\u001b[0m\u001b[37m\u001b[0m \u001b[1m4s\u001b[0m 38ms/step - accuracy: 0.9446 - loss: 0.1876 - val_accuracy: 0.9750 - val_loss: 0.1206\n",
            "Epoch 14/30\n",
            "\u001b[1m90/90\u001b[0m \u001b[32m━━━━━━━━━━━━━━━━━━━━\u001b[0m\u001b[37m\u001b[0m \u001b[1m5s\u001b[0m 36ms/step - accuracy: 0.9421 - loss: 0.1860 - val_accuracy: 0.9750 - val_loss: 0.1177\n",
            "Epoch 15/30\n",
            "\u001b[1m90/90\u001b[0m \u001b[32m━━━━━━━━━━━━━━━━━━━━\u001b[0m\u001b[37m\u001b[0m \u001b[1m4s\u001b[0m 49ms/step - accuracy: 0.9442 - loss: 0.1982 - val_accuracy: 0.9770 - val_loss: 0.1126\n",
            "Epoch 16/30\n",
            "\u001b[1m90/90\u001b[0m \u001b[32m━━━━━━━━━━━━━━━━━━━━\u001b[0m\u001b[37m\u001b[0m \u001b[1m4s\u001b[0m 39ms/step - accuracy: 0.9491 - loss: 0.1887 - val_accuracy: 0.9773 - val_loss: 0.1094\n",
            "Epoch 17/30\n",
            "\u001b[1m90/90\u001b[0m \u001b[32m━━━━━━━━━━━━━━━━━━━━\u001b[0m\u001b[37m\u001b[0m \u001b[1m5s\u001b[0m 37ms/step - accuracy: 0.9505 - loss: 0.1693 - val_accuracy: 0.9757 - val_loss: 0.1101\n",
            "Epoch 18/30\n",
            "\u001b[1m90/90\u001b[0m \u001b[32m━━━━━━━━━━━━━━━━━━━━\u001b[0m\u001b[37m\u001b[0m \u001b[1m7s\u001b[0m 60ms/step - accuracy: 0.9507 - loss: 0.1625 - val_accuracy: 0.9788 - val_loss: 0.0999\n",
            "Epoch 19/30\n",
            "\u001b[1m90/90\u001b[0m \u001b[32m━━━━━━━━━━━━━━━━━━━━\u001b[0m\u001b[37m\u001b[0m \u001b[1m3s\u001b[0m 37ms/step - accuracy: 0.9548 - loss: 0.1780 - val_accuracy: 0.9771 - val_loss: 0.1019\n",
            "Epoch 20/30\n",
            "\u001b[1m90/90\u001b[0m \u001b[32m━━━━━━━━━━━━━━━━━━━━\u001b[0m\u001b[37m\u001b[0m \u001b[1m5s\u001b[0m 36ms/step - accuracy: 0.9552 - loss: 0.1524 - val_accuracy: 0.9779 - val_loss: 0.0978\n",
            "Epoch 21/30\n",
            "\u001b[1m90/90\u001b[0m \u001b[32m━━━━━━━━━━━━━━━━━━━━\u001b[0m\u001b[37m\u001b[0m \u001b[1m5s\u001b[0m 52ms/step - accuracy: 0.9561 - loss: 0.1488 - val_accuracy: 0.9776 - val_loss: 0.0960\n",
            "Epoch 22/30\n",
            "\u001b[1m90/90\u001b[0m \u001b[32m━━━━━━━━━━━━━━━━━━━━\u001b[0m\u001b[37m\u001b[0m \u001b[1m4s\u001b[0m 38ms/step - accuracy: 0.9574 - loss: 0.1536 - val_accuracy: 0.9787 - val_loss: 0.0918\n",
            "Epoch 23/30\n",
            "\u001b[1m90/90\u001b[0m \u001b[32m━━━━━━━━━━━━━━━━━━━━\u001b[0m\u001b[37m\u001b[0m \u001b[1m3s\u001b[0m 36ms/step - accuracy: 0.9578 - loss: 0.1574 - val_accuracy: 0.9772 - val_loss: 0.0943\n",
            "Epoch 24/30\n",
            "\u001b[1m90/90\u001b[0m \u001b[32m━━━━━━━━━━━━━━━━━━━━\u001b[0m\u001b[37m\u001b[0m \u001b[1m3s\u001b[0m 36ms/step - accuracy: 0.9584 - loss: 0.1387 - val_accuracy: 0.9771 - val_loss: 0.0927\n",
            "Epoch 25/30\n",
            "\u001b[1m90/90\u001b[0m \u001b[32m━━━━━━━━━━━━━━━━━━━━\u001b[0m\u001b[37m\u001b[0m \u001b[1m6s\u001b[0m 46ms/step - accuracy: 0.9571 - loss: 0.1508 - val_accuracy: 0.9761 - val_loss: 0.0927\n",
            "Epoch 26/30\n",
            "\u001b[1m90/90\u001b[0m \u001b[32m━━━━━━━━━━━━━━━━━━━━\u001b[0m\u001b[37m\u001b[0m \u001b[1m4s\u001b[0m 36ms/step - accuracy: 0.9590 - loss: 0.1433 - val_accuracy: 0.9791 - val_loss: 0.0827\n",
            "Epoch 27/30\n",
            "\u001b[1m90/90\u001b[0m \u001b[32m━━━━━━━━━━━━━━━━━━━━\u001b[0m\u001b[37m\u001b[0m \u001b[1m3s\u001b[0m 38ms/step - accuracy: 0.9568 - loss: 0.1879 - val_accuracy: 0.9753 - val_loss: 0.0929\n",
            "Epoch 28/30\n",
            "\u001b[1m90/90\u001b[0m \u001b[32m━━━━━━━━━━━━━━━━━━━━\u001b[0m\u001b[37m\u001b[0m \u001b[1m5s\u001b[0m 38ms/step - accuracy: 0.9557 - loss: 0.1655 - val_accuracy: 0.9764 - val_loss: 0.0911\n",
            "Epoch 29/30\n",
            "\u001b[1m90/90\u001b[0m \u001b[32m━━━━━━━━━━━━━━━━━━━━\u001b[0m\u001b[37m\u001b[0m \u001b[1m3s\u001b[0m 38ms/step - accuracy: 0.9574 - loss: 0.1292 - val_accuracy: 0.9770 - val_loss: 0.0887\n",
            "Epoch 30/30\n",
            "\u001b[1m90/90\u001b[0m \u001b[32m━━━━━━━━━━━━━━━━━━━━\u001b[0m\u001b[37m\u001b[0m \u001b[1m3s\u001b[0m 36ms/step - accuracy: 0.9598 - loss: 0.1449 - val_accuracy: 0.9778 - val_loss: 0.0856\n"
          ]
        },
        {
          "output_type": "execute_result",
          "data": {
            "text/plain": [
              "<keras.src.callbacks.history.History at 0x78edcc2263d0>"
            ]
          },
          "metadata": {},
          "execution_count": 10
        }
      ]
    },
    {
      "cell_type": "code",
      "source": [
        "# Prediction probabilities\n",
        "y_scores = model.predict(X_test).ravel()"
      ],
      "metadata": {
        "colab": {
          "base_uri": "https://localhost:8080/"
        },
        "id": "exxfHqO2xfdH",
        "outputId": "40b22cd0-e461-49ad-b93a-9f9a797bc52c"
      },
      "execution_count": 11,
      "outputs": [
        {
          "output_type": "stream",
          "name": "stdout",
          "text": [
            "\u001b[1m1781/1781\u001b[0m \u001b[32m━━━━━━━━━━━━━━━━━━━━\u001b[0m\u001b[37m\u001b[0m \u001b[1m2s\u001b[0m 1ms/step\n"
          ]
        }
      ]
    },
    {
      "cell_type": "code",
      "source": [
        "# Find best threshold for F1\n",
        "prec, rec, thresholds = precision_recall_curve(y_test, y_scores)\n",
        "f1_scores = 2 * prec * rec / (prec + rec)\n",
        "best_thresh = thresholds[np.argmax(f1_scores)]\n",
        "print(f\"\\nBest Threshold for F1: {best_thresh:.3f}\")"
      ],
      "metadata": {
        "colab": {
          "base_uri": "https://localhost:8080/"
        },
        "id": "--jJBIeKxiDi",
        "outputId": "9695b063-2ec6-4b12-9caf-9ba2a57a3c05"
      },
      "execution_count": 12,
      "outputs": [
        {
          "output_type": "stream",
          "name": "stdout",
          "text": [
            "\n",
            "Best Threshold for F1: 1.000\n"
          ]
        }
      ]
    },
    {
      "cell_type": "code",
      "source": [
        "# Final predictions\n",
        "y_pred = (y_scores > best_thresh).astype(int)"
      ],
      "metadata": {
        "id": "PocTX2Ulxkm4"
      },
      "execution_count": 13,
      "outputs": []
    },
    {
      "cell_type": "code",
      "source": [
        "# Final Evaluation\n",
        "print(\"\\nConfusion Matrix:\\n\", confusion_matrix(y_test, y_pred))\n",
        "print(\"\\nClassification Report:\\n\", classification_report(y_test, y_pred, digits=4))\n",
        "print(\"ROC AUC Score:\", roc_auc_score(y_test, y_scores))"
      ],
      "metadata": {
        "colab": {
          "base_uri": "https://localhost:8080/"
        },
        "id": "S0Q5t5lyxnT0",
        "outputId": "502308f9-d820-4ee4-a10e-0b24c729468d"
      },
      "execution_count": 14,
      "outputs": [
        {
          "output_type": "stream",
          "name": "stdout",
          "text": [
            "\n",
            "Confusion Matrix:\n",
            " [[56846    18]\n",
            " [   18    80]]\n",
            "\n",
            "Classification Report:\n",
            "               precision    recall  f1-score   support\n",
            "\n",
            "           0     0.9997    0.9997    0.9997     56864\n",
            "           1     0.8163    0.8163    0.8163        98\n",
            "\n",
            "    accuracy                         0.9994     56962\n",
            "   macro avg     0.9080    0.9080    0.9080     56962\n",
            "weighted avg     0.9994    0.9994    0.9994     56962\n",
            "\n",
            "ROC AUC Score: 0.9800113841259632\n"
          ]
        }
      ]
    },
    {
      "cell_type": "code",
      "source": [
        "# Plot PR curve\n",
        "plt.plot(rec, prec, label=\"PR Curve\")\n",
        "plt.xlabel(\"Recall\")\n",
        "plt.ylabel(\"Precision\")\n",
        "plt.title(\"Precision-Recall Curve\")\n",
        "plt.grid(True)\n",
        "plt.legend()\n",
        "plt.show()"
      ],
      "metadata": {
        "colab": {
          "base_uri": "https://localhost:8080/",
          "height": 472
        },
        "id": "wjD4BKWoxput",
        "outputId": "e939fdbe-e389-494b-d5d7-c02dd75ff6a2"
      },
      "execution_count": 15,
      "outputs": [
        {
          "output_type": "display_data",
          "data": {
            "text/plain": [
              "<Figure size 640x480 with 1 Axes>"
            ],
            "image/png": "[encoded data removed]"
          },
          "metadata": {}
        }
      ]
    }
  ]
}